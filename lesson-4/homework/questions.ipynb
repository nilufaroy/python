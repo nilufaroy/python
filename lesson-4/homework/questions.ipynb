{
 "cells": [
  {
   "cell_type": "markdown",
   "id": "d950ff6f",
   "metadata": {},
   "source": [
    "1. 13 out of 13\n",
    "PASS!!!"
   ]
  },
  {
   "cell_type": "markdown",
   "id": "abc526cb",
   "metadata": {},
   "source": [
    "2. When break is used inside a loop, it immediately stops the entire loop, and control moves to the first line after the loop. When continue is used, it skips the rest of the current loop iteration and goes to the next iteration of the same loop.\n"
   ]
  },
  {
   "cell_type": "markdown",
   "id": "d40bbe0a",
   "metadata": {},
   "source": [
    "3. A while loop is used when you want to repeat an action until a specific condition is no longer true. It is typically used when the number of iterations is not known in advance. \n",
    "A for loop is used for iterating over a sequence (like a list, tuple, string, range, etc.). It is best when we know in advance how many times you want to loop through items."
   ]
  },
  {
   "cell_type": "markdown",
   "id": "a0594746",
   "metadata": {},
   "source": [
    "4. A nested for loop is simply a for loop inside another for loop. It's often used when we need to work with grids, tables, or combinations of elements.\n",
    "\n",
    "EXAMPLE:\n",
    "    for i in range(1, 4):       \n",
    "    for j in range(1, 4):   \n",
    "        print(i * j, end=\"\\t\")\n",
    "    print() \n",
    "\n"
   ]
  }
 ],
 "metadata": {
  "language_info": {
   "name": "python"
  }
 },
 "nbformat": 4,
 "nbformat_minor": 5
}
